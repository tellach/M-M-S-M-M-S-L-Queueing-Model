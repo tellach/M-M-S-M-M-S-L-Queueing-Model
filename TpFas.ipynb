{
 "cells": [
  {
   "cell_type": "code",
   "execution_count": 7,
   "metadata": {},
   "outputs": [],
   "source": [
    "import math\n",
    "import sys\n",
    "\n",
    "\n",
    "class MMS:\n",
    "    def __init__(self,tauxArrivee,tauxService,s):\n",
    "        self.s=s\n",
    "        self.tauxArrivee=tauxArrivee\n",
    "        self.tauxService=tauxService\n",
    "        self.u=tauxArrivee/tauxService\n",
    "        self.rho=self.u/s\n",
    "        \n",
    "        #verification de la condition de stabilite du systeme\n",
    "        \n",
    "        if self.rho >= 1.0:\n",
    "            print(\"le systeme n'est pas stable (le regime stationnaire n'existe pas)\")\n",
    "            exit(-1)\n",
    "            \n",
    "        #calcul de p0 \n",
    "        res = 0.0\n",
    "        for k in range(0,s-1):\n",
    "            res += math.pow(self.u,k)/math.factorial(k)\n",
    "         \n",
    "        res += (self.s * math.pow(self.u,s))/(math.factorial(s) * (s - self.u))\n",
    "        self.p0 = 1/res\n",
    "        \n",
    "    # PK\n",
    "    def pk(self, k):\n",
    "        return p0 if k == 0 else pk(k - 1) * self.tauxArrivee / min(k, self.s) / self.tauxService\n",
    "    \n",
    "    # Nf\n",
    "    def Nf(self):\n",
    "        return self.p0 * math.pow(elf.u,self.s) * self.rho / math.factorial(self.s) / (1 - self.rho) ** 2\n",
    "    \n",
    "    # Ns\n",
    "    def Ns(self):\n",
    "        return self.Nf() + self.tauxArrivee / self.tauxService\n",
    "\n",
    "    # Tf\n",
    "    def Tf(self):\n",
    "        return self.Nf() / self.tauxArrivee\n",
    "    \n",
    "    # Ts\n",
    "    def Ts(self):\n",
    "        return self.Ns() / self.tauxArrivee\n",
    "\n",
    "    "
   ]
  }
 ],
 "metadata": {
  "kernelspec": {
   "display_name": "Python 3",
   "language": "python",
   "name": "python3"
  },
  "language_info": {
   "codemirror_mode": {
    "name": "ipython",
    "version": 3
   },
   "file_extension": ".py",
   "mimetype": "text/x-python",
   "name": "python",
   "nbconvert_exporter": "python",
   "pygments_lexer": "ipython3",
   "version": "3.7.4"
  }
 },
 "nbformat": 4,
 "nbformat_minor": 2
}
